{
 "cells": [
  {
   "cell_type": "code",
   "execution_count": 0,
   "metadata": {
    "application/vnd.databricks.v1+cell": {
     "cellMetadata": {},
     "inputWidgets": {},
     "nuid": "c2459a1e-b83b-4fcd-9459-f327b8ba2ffa",
     "showTitle": false,
     "tableResultSettingsMap": {},
     "title": ""
    }
   },
   "outputs": [],
   "source": [
    "-- Create sample table\n",
    "\n",
    "CREATE OR REPLACE TABLE student (\n",
    "  id INT,\n",
    "  name STRING,\n",
    "  age INT,\n",
    "  grade STRING\n",
    ")"
   ]
  },
  {
   "cell_type": "code",
   "execution_count": 0,
   "metadata": {
    "application/vnd.databricks.v1+cell": {
     "cellMetadata": {},
     "inputWidgets": {},
     "nuid": "eada7f5a-bffc-4225-b746-436df312ed02",
     "showTitle": false,
     "tableResultSettingsMap": {},
     "title": ""
    }
   },
   "outputs": [],
   "source": [
    "-- Insert sample rows\n",
    "INSERT INTO student VALUES\n",
    "  (1, 'Alice', 20, 'A'),\n",
    "  (2, 'Bob', 21, 'B'),\n",
    "  (3, 'Charlie', 22, 'A'),\n",
    "  (4, 'Diana', 23, 'C')\n",
    "\n",
    "-- Read (Select) all students\n",
    "SELECT * FROM student\n",
    "\n",
    "-- Update: Change grade for Bob to 'A'\n",
    "UPDATE student SET grade = 'A' WHERE name = 'Bob'\n",
    "\n",
    "\n",
    "-- Delete: Remove student with id = 4\n",
    "DELETE FROM student WHERE id = 4\n",
    "\n",
    "\n",
    "-- Create: Insert a new student\n",
    "\n",
    "INSERT INTO student VALUES (5, 'Eve', 24, 'B')\n",
    "\n",
    "\n",
    "-- Final state\n",
    "SELECT * FROM student\n"
   ]
  }
 ],
 "metadata": {
  "application/vnd.databricks.v1+notebook": {
   "computePreferences": null,
   "dashboards": [],
   "environmentMetadata": {
    "base_environment": "",
    "environment_version": "2"
   },
   "inputWidgetPreferences": null,
   "language": "sql",
   "notebookMetadata": {
    "pythonIndentUnit": 4
   },
   "notebookName": "SQL Example",
   "widgets": {}
  },
  "language_info": {
   "name": "sql"
  }
 },
 "nbformat": 4,
 "nbformat_minor": 0
}
